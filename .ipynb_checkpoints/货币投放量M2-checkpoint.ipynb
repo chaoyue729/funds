{
 "cells": [
  {
   "cell_type": "code",
   "execution_count": 1,
   "metadata": {},
   "outputs": [
    {
     "data": {
      "text/plain": [
       "<matplotlib.axes._subplots.AxesSubplot at 0x1888c86b6a0>"
      ]
     },
     "execution_count": 1,
     "metadata": {},
     "output_type": "execute_result"
    },
    {
     "data": {
      "image/png": "[encoded data removed]",
      "text/plain": [
       "<Figure size 432x288 with 1 Axes>"
      ]
     },
     "metadata": {},
     "output_type": "display_data"
    }
   ],
   "source": [
    "from lxml import etree\n",
    "import requests\n",
    "import time\n",
    "import pandas as pd\n",
    "import re\n",
    "\n",
    "root_url='http://data.eastmoney.com/cjsj/moneysupply.aspx?p=%s'\n",
    "urls=[root_url%x for x in range(1,8)]\n",
    "l3=[]\n",
    "for url in urls:\n",
    "    r=requests.get(url)\n",
    "    r.encoding='gb2312'\n",
    "    response=etree.HTML(r.text)\n",
    "    trs=response.xpath('//div[3][@class=\"Content\"]/table/tr')\n",
    "    l2=[]\n",
    "    for tr in trs[2:]:\n",
    "        tds=tr.xpath('td')\n",
    "        l1=[]\n",
    "        if tds:\n",
    "            l1.append(tds[0].xpath('./text()')[0])\n",
    "            l1.append(tds[1].xpath('./text()')[0])\n",
    "            for td in tds[2:4]:\n",
    "                l1.append(td.xpath('span/text()')[0])\n",
    "            l2.append(l1)\n",
    "    l3.extend(l2)\n",
    "df=pd.DataFrame(l3,columns=['月份','数量','同比','环比'])#columns=['月份','数量','同比','环比']\n",
    "f=lambda x:re.sub('[\\s]','',str(x))\n",
    "df=df.applymap(f)\n",
    "df['月份']=df['月份'].str.replace('[年,月,份]','')\n",
    "f=lambda a:a[:4]+'.'+a[-2:]\n",
    "df['月份']=df['月份'].map(f)\n",
    "df.sort_values(by='月份',inplace=True)\n",
    "df.月份=pd.to_datetime(df['月份'])\n",
    "df.sort_values(by='月份',inplace=True)\n",
    "df['数量']=df['数量'].astype('float')\n",
    "df.plot(x='月份',y='数量')\n",
    "\n"
   ]
  },
  {
   "cell_type": "code",
   "execution_count": 3,
   "metadata": {},
   "outputs": [
    {
     "data": {
      "text/plain": [
       "[]"
      ]
     },
     "execution_count": 3,
     "metadata": {},
     "output_type": "execute_result"
    }
   ],
   "source": [
    "tds"
   ]
  },
  {
   "cell_type": "code",
   "execution_count": 53,
   "metadata": {},
   "outputs": [
    {
     "data": {
      "text/plain": [
       "{'encoding': 'GB2312', 'confidence': 0.99, 'language': 'Chinese'}"
      ]
     },
     "execution_count": 53,
     "metadata": {},
     "output_type": "execute_result"
    }
   ],
   "source": [
    "# r.content.decode('gb2312')\n",
    "import chardet\n",
    "chardet.detect(r.content)"
   ]
  }
 ],
 "metadata": {
  "kernelspec": {
   "display_name": "Python 3",
   "language": "python",
   "name": "python3"
  },
  "language_info": {
   "codemirror_mode": {
    "name": "ipython",
    "version": 3
   },
   "file_extension": ".py",
   "mimetype": "text/x-python",
   "name": "python",
   "nbconvert_exporter": "python",
   "pygments_lexer": "ipython3",
   "version": "3.6.5"
  }
 },
 "nbformat": 4,
 "nbformat_minor": 2
}
